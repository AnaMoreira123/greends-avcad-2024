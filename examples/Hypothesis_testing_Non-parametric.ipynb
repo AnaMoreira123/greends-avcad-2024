{
 "cells": [
  {
   "cell_type": "markdown",
   "metadata": {},
   "source": [
    "### Non-parametric two-sample tests\n",
    "#### Kolmogorov-smirnov test\n",
    "\n",
    "1. Define H0 : The two samples are drawn from populations with equal distributions\n",
    "2. Take sample from populations pop1 and pop2 - use the same as previous example\n",
    "3. Check assumptions (see test for homeogeneity of variances above)\n",
    "3. Compute the statistic and check *p-value*"
   ]
  },
  {
   "cell_type": "code",
   "execution_count": null,
   "metadata": {},
   "outputs": [],
   "source": [
    "stat, p = sts.ks_2samp(sample1, sample2)\n",
    "print('stat=%.3f, p-value=%.3f' % (stat, p))\n",
    "alpha=0.05\n",
    "if p > alpha:\n",
    " print('fail to reject H0. Rejecting H0 has an error probability >0.05')\n",
    "else:\n",
    " print('reject H0 with an error probability <0.05)')"
   ]
  },
  {
   "cell_type": "markdown",
   "metadata": {},
   "source": [
    "#### Mann-Whitney U Test (or Wilcoxon rank sum test) - two-tailed test\n",
    "\n",
    "H0 : The two samples are drawn from populations with equal medians"
   ]
  },
  {
   "cell_type": "code",
   "execution_count": null,
   "metadata": {},
   "outputs": [],
   "source": [
    "stat, p = sts.mannwhitneyu(sample1, sample2, alternative='two-sided')\n",
    "print('stat=%.3f, p-value=%.3f' % (stat, p))\n",
    "alpha=0.05\n",
    "if p > alpha:\n",
    " print('fail to reject H0. Rejecting H0 has an error probability >0.05')\n",
    "else:\n",
    " print('reject H0 with an error probability <0.05)')"
   ]
  },
  {
   "cell_type": "markdown",
   "metadata": {},
   "source": [
    "#### Mann-Whitney U Test (or Wilcoxon rank sum test) - one-tailed test\n",
    "\n",
    "H0 : Population 1 has a median > or = to Population 2"
   ]
  },
  {
   "cell_type": "code",
   "execution_count": null,
   "metadata": {},
   "outputs": [],
   "source": [
    "stat, p = sts.mannwhitneyu(sample1, sample2, alternative='greater')\n",
    "print('stat=%.3f, p-value=%.3f' % (stat, p))\n",
    "alpha=0.05\n",
    "if p > alpha:\n",
    " print('fail to reject H0. Rejecting H0 has an error probability >0.05')\n",
    "else:\n",
    " print('reject H0 with an error probability <0.05)')"
   ]
  },
  {
   "cell_type": "markdown",
   "metadata": {},
   "source": [
    "#### Wilcoxon signed rank test (paired)\n",
    "\n",
    "H0 : The two samples are drawn from populations with equal medians"
   ]
  },
  {
   "cell_type": "code",
   "execution_count": null,
   "metadata": {},
   "outputs": [
    {
     "name": "stdout",
     "output_type": "stream",
     "text": [
      "stat=8406.000, p-value=0.000\n",
      "reject H0 with an error probability <0.05)\n"
     ]
    }
   ],
   "source": [
    "stat, p = sts.wilcoxon(sample1, sample2)\n",
    "print('stat=%.3f, p-value=%.3f' % (stat, p))\n",
    "alpha=0.05\n",
    "if p > alpha:\n",
    " print('fail to reject H0. Rejecting H0 has an error probability >0.05')\n",
    "else:\n",
    " print('reject H0 with an error probability <0.05)')"
   ]
  }
 ],
 "metadata": {
  "language_info": {
   "name": "python"
  }
 },
 "nbformat": 4,
 "nbformat_minor": 2
}
