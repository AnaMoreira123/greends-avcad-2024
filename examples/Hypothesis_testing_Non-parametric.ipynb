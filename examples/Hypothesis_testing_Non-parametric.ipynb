{
 "cells": [
  {
   "cell_type": "markdown",
   "metadata": {},
   "source": [
    "### Non-parametric two-sample tests\n",
    "#### Kolmogorov-smirnov test\n",
    "\n",
    "1. Define H0 : The two samples are drawn from populations with equal distributions\n",
    "2. Take sample from populations pop1 and pop2 - use the same as previous example\n",
    "3. Check assumptions (see test for homeogeneity of variances above)\n",
    "3. Compute the statistic and check *p-value*"
   ]
  },
  {
   "cell_type": "code",
   "execution_count": null,
   "metadata": {},
   "outputs": [],
   "source": [
    "stat, p = sts.ks_2samp(sample1, sample2)\n",
    "print('stat=%.3f, p-value=%.3f' % (stat, p))\n",
    "alpha=0.05\n",
    "if p > alpha:\n",
    " print('fail to reject H0. Rejecting H0 has an error probability >0.05')\n",
    "else:\n",
    " print('reject H0 with an error probability <0.05)')"
   ]
  },
  {
   "cell_type": "markdown",
   "metadata": {},
   "source": [
    "#### Mann-Whitney U Test (or Wilcoxon rank sum test) - two-tailed test\n",
    "\n",
    "H0 : The two samples are drawn from populations with equal medians"
   ]
  },
  {
   "cell_type": "code",
   "execution_count": null,
   "metadata": {},
   "outputs": [],
   "source": [
    "stat, p = sts.mannwhitneyu(sample1, sample2, alternative='two-sided')\n",
    "print('stat=%.3f, p-value=%.3f' % (stat, p))\n",
    "alpha=0.05\n",
    "if p > alpha:\n",
    " print('fail to reject H0. Rejecting H0 has an error probability >0.05')\n",
    "else:\n",
    " print('reject H0 with an error probability <0.05)')"
   ]
  },
  {
   "cell_type": "markdown",
   "metadata": {},
   "source": [
    "#### Mann-Whitney U Test (or Wilcoxon rank sum test) - one-tailed test\n",
    "\n",
    "H0 : Population 1 has a median > or = to Population 2"
   ]
  },
  {
   "cell_type": "code",
   "execution_count": null,
   "metadata": {},
   "outputs": [],
   "source": [
    "stat, p = sts.mannwhitneyu(sample1, sample2, alternative='greater')\n",
    "print('stat=%.3f, p-value=%.3f' % (stat, p))\n",
    "alpha=0.05\n",
    "if p > alpha:\n",
    " print('fail to reject H0. Rejecting H0 has an error probability >0.05')\n",
    "else:\n",
    " print('reject H0 with an error probability <0.05)')"
   ]
  },
  {
   "cell_type": "markdown",
   "metadata": {},
   "source": [
    "#### Wilcoxon signed rank test (paired)\n",
    "\n",
    "H0 : The two samples are drawn from populations with equal medians"
   ]
  },
  {
   "cell_type": "code",
   "execution_count": null,
   "metadata": {},
   "outputs": [
    {
     "name": "stdout",
     "output_type": "stream",
     "text": [
      "stat=8406.000, p-value=0.000\n",
      "reject H0 with an error probability <0.05)\n"
     ]
    }
   ],
   "source": [
    "stat, p = sts.wilcoxon(sample1, sample2)\n",
    "print('stat=%.3f, p-value=%.3f' % (stat, p))\n",
    "alpha=0.05\n",
    "if p > alpha:\n",
    " print('fail to reject H0. Rejecting H0 has an error probability >0.05')\n",
    "else:\n",
    " print('reject H0 with an error probability <0.05)')"
   ]
  },
  {
   "cell_type": "markdown",
   "metadata": {},
   "source": [
    "### Non-parametric multiple sample tests\n",
    "#### Kruskal-Wallis test\n",
    "1. Define H0 : The samples are drawn from populations with equal medians\n",
    "2. Take sample from populations (pop1 and pop2) - use the same as previous examples\n",
    "3. Compute the statistic and check the *p-value*"
   ]
  },
  {
   "cell_type": "code",
   "execution_count": null,
   "metadata": {},
   "outputs": [],
   "source": [
    "stat, p = sts.kruskal(sample1, sample2, sample3, sample4)\n",
    "print('F-statistics=%.3f, p=%.6f' % (stat, p))\n",
    "alpha=0.05\n",
    "if p > alpha:\n",
    " print('fail to reject H0. Rejecting H0 has an error probability >0.05')\n",
    "else:\n",
    " print('reject H0 with an error probability <0.05)')"
   ]
  },
  {
   "cell_type": "markdown",
   "metadata": {},
   "source": [
    "#### Dunn's test (multiple comparisons)\n",
    "\n",
    "The Dunn's test is a non-parametric multiple comparison test to check which pairs of groups differ when a Kruskal-wallis test (or Friedman test) rejects the null hypothesis. It is implemented in the scikit-posthocs module (you may need to install: run `pip install scikit-posthocs` in the CLI terminal).\n",
    "\n",
    "H0 : The samples are drawn from populations with equal medians"
   ]
  },
  {
   "cell_type": "code",
   "execution_count": null,
   "metadata": {},
   "outputs": [],
   "source": [
    "# need to a list with samples (can be the list_sample produced above)\n",
    "sp.posthoc_dunn(list_sample, p_adjust = 'bonferroni') # the correction for multiple comparisons is based on the bonferroni's correction.\n",
    "# the output is a matrix of p-values for each pair of groups."
   ]
  },
  {
   "cell_type": "markdown",
   "metadata": {},
   "source": [
    "#### Friedman test\n",
    "\n",
    "This is the non-parametric equivalent of a repeated measures ANOVA. It is implemented in statsmodels. \n",
    "\n",
    "H0 : The samples are drawn from populations with equal medians"
   ]
  },
  {
   "cell_type": "code",
   "execution_count": null,
   "metadata": {},
   "outputs": [],
   "source": [
    "# use same data as for the repeated measures ANOVA\n",
    "stat, p = sts.friedmanchisquare(df3['time of response'][0:4], \n",
    "                                df3['time of response'][5:9], \n",
    "                                df3['time of response'][10:14], \n",
    "                                df3['time of response'][15:19])\n",
    "print('Statistic=%.3f, p=%.6f' % (stat, p))\n",
    "alpha=0.05\n",
    "if p > alpha:\n",
    " print('fail to reject H0. Rejecting H0 has an error probability >0.05')\n",
    "else:\n",
    " print('reject H0 with an error probability <0.05)')"
   ]
  },
  {
   "cell_type": "markdown",
   "metadata": {},
   "source": [
    "### Tests for categorical variables\n",
    "\n",
    "#### Chi-Square Test of Independence\n",
    "\n",
    "A Chi-Square Test of Independence is used to determine whether or not there is a significant association between two categorical variables.\n",
    "\n",
    "H0: The two variables are independent."
   ]
  },
  {
   "cell_type": "code",
   "execution_count": null,
   "metadata": {},
   "outputs": [],
   "source": [
    "# Create data contingency table (counts for each class combination of two categorical variables, for ex. treatment in columns (3 treatments) vs. success of treatment (yes/no) in rows)\n",
    "data = [[120, 90, 40],\n",
    "        [110, 95, 45]]\n",
    "\n",
    "# run test\n",
    "stat, p, df, expected_freq = sts.chi2_contingency(data)\n",
    "print('Statistics=%.3f, p=%.6f' % (stat, p))\n",
    "alpha=0.05\n",
    "if p > alpha:\n",
    " print('fail to reject H0. Rejecting H0 has an error probability >0.05')\n",
    "else:\n",
    " print('reject H0 with an error probability <0.05)')"
   ]
  }
 ],
 "metadata": {
  "language_info": {
   "name": "python"
  }
 },
 "nbformat": 4,
 "nbformat_minor": 2
}
