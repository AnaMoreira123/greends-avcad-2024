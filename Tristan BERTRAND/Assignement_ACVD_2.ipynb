{
 "cells": [
  {
   "cell_type": "code",
   "execution_count": null,
   "metadata": {},
   "outputs": [],
   "source": []
  },
  {
   "cell_type": "markdown",
   "metadata": {},
   "source": [
    "Each type of data or datasets is best visualized by certain kinds of charts, depending on both the targeted audience as well as the personal preferences of the data visualizer. In this exercise you will first simulate different types of data and datasets in python. Randomizations are usefull to understand certain statistical concepts and also as a basis for random sampling, which may be required when dealing with big data. Based on these simulated data, the exercise will consist on choosing the type of chart that you find more adequate to represent the different types of data and datasets.\n",
    "\n",
    "# The objectives of this exercise are to:\n",
    "\n",
    "#### identify each type of variables and tables that were created.\n",
    "\n",
    "#### try your best to interpret each line of the code provided by inserting a note in front of each line (it might be usefull to create a jupiter notebook from the markdown file)\n",
    "\n",
    "#### based on these simulated data, draw sketches of the charts that you find more adequate to represent the different types of data and datasets. You should identify the different axis of the plot, if applicable.\n",
    "\n",
    "You will use two modules that provide pseudo-random number generators to implement random sampling routines. Have a look here (random module) and here (numpy.random module). Both allow to simulate data and take random samples, although np.random allows more pseudo-random generator methods to be implemented.\n",
    "\n",
    "To run the simulations, you should first import pandas, numpy and random modules (in case you still did not installed these modules, you will need to install beforehand).\n",
    "\n"
   ]
  },
  {
   "cell_type": "code",
   "execution_count": null,
   "metadata": {},
   "outputs": [],
   "source": [
    "import pandas as pd\n",
    "import numpy as np\n",
    "import random"
   ]
  },
  {
   "cell_type": "code",
   "execution_count": 11,
   "metadata": {},
   "outputs": [
    {
     "name": "stdout",
     "output_type": "stream",
     "text": [
      "['Pasture', 'Managed Forest', 'Natural Forest', 'Managed Forest', 'Natural Forest', 'Managed Forest', 'Irrigated crops', 'Managed Forest', 'Agro-Forestry system', 'Permanent crops', 'Shrubland', 'Shrubland', 'Irrigated crops', 'Permanent crops', 'Managed Forest', 'Shrubland', 'Shrubland', 'Agro-Forestry system', 'Shrubland', 'Irrigated crops', 'Agro-Forestry system', 'Managed Forest', 'Urban', 'Agro-Forestry system', 'Irrigated crops', 'Urban', 'Permanent crops', 'Natural Forest', 'Urban', 'Urban', 'Irrigated crops', 'Agro-Forestry system', 'Irrigated crops', 'Natural Forest', 'Managed Forest', 'Shrubland', 'Agro-Forestry system', 'Agro-Forestry system', 'Agro-Forestry system', 'Natural Forest', 'Irrigated crops', 'Shrubland', 'Managed Forest', 'Managed Forest', 'Urban', 'Shrubland', 'Natural Forest', 'Managed Forest', 'Shrubland', 'Agro-Forestry system', 'Natural Forest', 'Natural Forest', 'Irrigated crops', 'Managed Forest', 'Agro-Forestry system', 'Urban', 'Natural Forest', 'Pasture', 'Natural Forest', 'Agro-Forestry system', 'Pasture', 'Irrigated crops', 'Shrubland', 'Urban', 'Urban', 'Agro-Forestry system', 'Managed Forest', 'Pasture', 'Urban', 'Natural Forest', 'Urban', 'Permanent crops', 'Permanent crops', 'Shrubland', 'Urban', 'Shrubland', 'Shrubland', 'Irrigated crops', 'Permanent crops', 'Irrigated crops', 'Urban', 'Pasture', 'Pasture', 'Shrubland', 'Pasture', 'Pasture', 'Natural Forest', 'Agro-Forestry system', 'Agro-Forestry system', 'Urban', 'Agro-Forestry system', 'Managed Forest', 'Urban', 'Irrigated crops', 'Permanent crops', 'Agro-Forestry system', 'Permanent crops', 'Pasture', 'Pasture', 'Pasture']\n"
     ]
    }
   ],
   "source": [
    "# Simulate var1\n",
    "\n",
    "var1 = []\n",
    "#used to keep the \"same random\" at each run\n",
    "random.seed(24) # optional: used to fix the seed of the pseudo-random number generator (use any number of your choice)\n",
    "levels = [\"Permanent crops\", \"Irrigated crops\", \"Managed Forest\", \"Natural Forest\", \"Agro-Forestry system\", \"Urban\", \"Pasture\", \"Shrubland\" ]\n",
    "#The loop is needed to add 100 time a worf drom level in the list var1\n",
    "for _ in range(100): # why is a loop needed?\n",
    "    #Choose a randome word in the level list and add it to the var1 list\n",
    "    var1 += random.sample(levels, 1) # var1.append(random.sample(levels, 1)) would also work\n",
    "\n",
    "print(var1)\n",
    "\n",
    "#The variable Var1 is a list of categorial data"
   ]
  },
  {
   "cell_type": "code",
   "execution_count": 13,
   "metadata": {},
   "outputs": [
    {
     "name": "stdout",
     "output_type": "stream",
     "text": [
      "[96.00173033 69.95120499 99.98672926 22.00672998 36.1056354  73.98409902\n",
      " 99.64557251 31.63469778 13.65445798 38.39800102 32.05192836 36.64147531\n",
      " 70.96515626 90.01424305 53.41154392 24.72937649 67.18065626 56.17291073\n",
      " 54.25598767 89.34476037 84.27795496 30.60125899 63.11697775 68.02388604\n",
      " 97.04275604 89.35671519 94.24258614 64.22254812 61.46476338 22.76832544\n",
      " 48.6031869  80.72192994 84.42201535 53.46808662 75.77980499 49.96768861\n",
      " 85.03278966 61.96967754 86.16141791 23.16971966 40.22184146 62.43750622\n",
      " 14.30367059 12.27984836 41.68299108 55.68829821 94.14191754 40.92590225\n",
      " 73.67514494 99.54506744 91.66643492  0.20232726 97.13316932 88.90481767\n",
      " 69.94886062  9.75246685 57.34290389 82.00371163 56.08910506 35.07624607\n",
      " 54.34997561 87.95890917 11.40965649  3.14388054 95.28100604 28.87434744\n",
      " 44.19491709 25.90215323 59.68914437 65.5286046  27.56954606 85.79724579\n",
      " 88.87241464 28.50605911 65.95604191 97.21202594 79.68741126 17.94644012\n",
      " 78.46729779 97.01278886 36.2811769   8.78860648 34.38334237 57.11096457\n",
      " 16.55126825 63.16159389  6.55655353 91.28741912  8.86539792 19.93876783\n",
      " 47.1952698  44.09971802 76.55514267  1.27435337 68.06629642 27.56026399\n",
      " 60.39798213 54.59728462 20.97898106 13.61227537]\n"
     ]
    }
   ],
   "source": [
    "# Simulate var2\n",
    "np.random.seed(24) # optional: used to fix the seed of the pseudo-random number generator (use any number of your choice)\n",
    "var2 = np.random.uniform(0, 100, 100)\n",
    "#Here 100 float between 0 and 100 are simulated in folowing the uniforme distribution\n",
    "#the result is an array of 100 random floating-point numbers sampled from a uniform distribution between 0 and 100\n",
    "print(var2)"
   ]
  },
  {
   "cell_type": "code",
   "execution_count": 15,
   "metadata": {},
   "outputs": [
    {
     "name": "stdout",
     "output_type": "stream",
     "text": [
      "                landuse  Frequency\n",
      "0  Agro-Forestry system         16\n",
      "1                 Urban         14\n",
      "2             Shrubland         14\n",
      "3        Managed Forest         13\n",
      "4        Natural Forest         12\n",
      "5       Irrigated crops         12\n",
      "6               Pasture         11\n",
      "7       Permanent crops          8\n"
     ]
    }
   ],
   "source": [
    "# Simulate table1\n",
    "table1 = pd.DataFrame(var1).value_counts(sort=True)\n",
    "#table is a DataFrame with two columns: the unique values from var1, and their corresponding counts, sorted in descending order of frequency\n",
    "table1 = table1.rename_axis(\"landuse\") #we rename the column of var1 values\n",
    "table1 = table1.reset_index(name=\"Frequency\") ##we rename the column of var1 values frequency\n",
    "print(table1)"
   ]
  },
  {
   "cell_type": "code",
   "execution_count": 16,
   "metadata": {},
   "outputs": [
    {
     "name": "stdout",
     "output_type": "stream",
     "text": [
      "                 landuse      cover\n",
      "0                Pasture  96.001730\n",
      "1         Managed Forest  69.951205\n",
      "2         Natural Forest  99.986729\n",
      "3         Managed Forest  22.006730\n",
      "4         Natural Forest  36.105635\n",
      "..                   ...        ...\n",
      "95  Agro-Forestry system  27.560264\n",
      "96       Permanent crops  60.397982\n",
      "97               Pasture  54.597285\n",
      "98               Pasture  20.978981\n",
      "99               Pasture  13.612275\n",
      "\n",
      "[100 rows x 2 columns]\n"
     ]
    }
   ],
   "source": [
    "# Simulate table2\n",
    "table2 = pd.DataFrame(list(zip(var1, var2)), columns = [\"landuse\", \"cover\"])\n",
    "# is a DataFrame with two columns: \"landuse\", containing values from var1, and \"cover\", containing values from var2. Each row of table2 corresponds to a pair of values from var1 and var2, respectively. \n",
    "print(table2)\n",
    "\n",
    "# Note: The zip() function returns a zip object, which is an iterator of tuples where the first item in each passed iterator is paired together, and then the second item in each passed iterator are paired together, etc. The tuple() function displays a readable version of the result - try running: print(tuple(zip(var1,var2)))\n"
   ]
  },
  {
   "cell_type": "code",
   "execution_count": 19,
   "metadata": {},
   "outputs": [
    {
     "name": "stdout",
     "output_type": "stream",
     "text": [
      "    Year  Temperature\n",
      "0   1970    19.658424\n",
      "1   1971    15.459933\n",
      "2   1972    16.367439\n",
      "3   1973    15.018379\n",
      "4   1974    14.858367\n",
      "5   1975    14.122573\n",
      "6   1976    18.128834\n",
      "7   1977    17.591444\n",
      "8   1978    13.747192\n",
      "9   1979    17.439130\n",
      "10  1980    18.357610\n",
      "11  1981    20.778545\n",
      "12  1982    18.923077\n",
      "13  1983    17.208022\n",
      "14  1984    16.037669\n",
      "15  1985    18.700457\n",
      "16  1986    19.906849\n",
      "17  1987    19.115475\n",
      "18  1988    17.331123\n",
      "19  1989    18.030037\n",
      "20  1990    14.326129\n",
      "21  1991    18.125722\n",
      "22  1992    19.785710\n",
      "23  1993    16.873344\n",
      "24  1994    17.243337\n",
      "25  1995    19.415205\n",
      "26  1996    16.995920\n",
      "27  1997    20.255591\n",
      "28  1998    17.708986\n",
      "29  1999    19.075055\n",
      "30  2000    16.228633\n",
      "31  2001    18.039636\n",
      "32  2002    20.373166\n",
      "33  2003    14.348074\n",
      "34  2004    19.857967\n",
      "35  2005    12.821291\n",
      "36  2006    16.740360\n",
      "37  2007    18.263046\n",
      "38  2008    15.826924\n",
      "39  2009    17.581440\n",
      "40  2010    19.528207\n",
      "41  2011    17.580070\n",
      "42  2012    13.059423\n",
      "43  2013    18.607812\n",
      "44  2014    19.061101\n",
      "45  2015    17.236196\n",
      "46  2016    16.956293\n",
      "47  2017    17.093681\n",
      "48  2018    13.742494\n",
      "49  2019    16.215279\n",
      "50  2020    20.401945\n"
     ]
    }
   ],
   "source": [
    "# Simulate table3\n",
    "np.random.seed(24) # optional: used to fix the seed of the pseudo-random number generator (use any number of your choice)\n",
    "year = list(range(1970,2021))\n",
    "#year is a list of int between 1970 and 2020 (include)\n",
    "temp = np.random.normal(17,2,51)\n",
    "# temp an array of 51 float following the normal distrivution of the following parameters (mean=17) and (standard deviation=2)\n",
    "table3 = pd.DataFrame(list(zip(year, temp)), columns = [\"Year\", \"Temperature\"])\n",
    "\n",
    "#Table 3 is a dataframe containing 51 row and two column With the corrsponding year and temperature \n",
    "print(table3)"
   ]
  },
  {
   "cell_type": "code",
   "execution_count": 20,
   "metadata": {},
   "outputs": [
    {
     "name": "stdout",
     "output_type": "stream",
     "text": [
      "[16 21]\n"
     ]
    }
   ],
   "source": [
    "# Simulate table4\n",
    "xx = np.array([16,21])\n",
    "#create an array\n",
    "yy = np.array([300, 1200])\n",
    "#create an array\n",
    "means = [xx.mean(), yy.mean()]  \n",
    "#Create a list with the two mean of previous arrays\n",
    "stds = [xx.std() / 3, yy.std() / 3]\n",
    "#This line calculates the standard deviations of the arrays xx and yy, and then divides each by 3\n",
    "\n",
    "corr = -0.7 # correlation\n",
    "covs = [[stds[0]**2          , stds[0]*stds[1]*corr], \n",
    "        [stds[0]*stds[1]*corr,           stds[1]**2]] # covariance matrix\n",
    "\n",
    "table4 = pd.DataFrame(np.random.multivariate_normal(means, covs, 100), columns = [\"Mean Anual Temperature\", \"Total Precipitation\"])\n",
    "\n",
    "#This part generates 100 random samples from a multivariate normal distribution with the specified means and covariance matrix.\n",
    "#Table 4 is a DataFrame containing 100 rows of randomly generated data based on specified mean values, standard deviations, and a correlation coefficient."
   ]
  },
  {
   "cell_type": "code",
   "execution_count": 4,
   "metadata": {},
   "outputs": [
    {
     "ename": "NameError",
     "evalue": "name 'pd' is not defined",
     "output_type": "error",
     "traceback": [
      "\u001b[0;31m---------------------------------------------------------------------------\u001b[0m",
      "\u001b[0;31mNameError\u001b[0m                                 Traceback (most recent call last)",
      "\u001b[0;32m<ipython-input-4-06e83de821cc>\u001b[0m in \u001b[0;36m<module>\u001b[0;34m\u001b[0m\n\u001b[1;32m      1\u001b[0m \u001b[0;31m# Simulate table5\u001b[0m\u001b[0;34m\u001b[0m\u001b[0;34m\u001b[0m\u001b[0;34m\u001b[0m\u001b[0m\n\u001b[0;32m----> 2\u001b[0;31m \u001b[0mcol1\u001b[0m \u001b[0;34m=\u001b[0m \u001b[0mpd\u001b[0m\u001b[0;34m.\u001b[0m\u001b[0mSeries\u001b[0m\u001b[0;34m(\u001b[0m\u001b[0mlist\u001b[0m\u001b[0;34m(\u001b[0m\u001b[0mrange\u001b[0m\u001b[0;34m(\u001b[0m\u001b[0;36m1900\u001b[0m\u001b[0;34m,\u001b[0m\u001b[0;36m2010\u001b[0m\u001b[0;34m,\u001b[0m\u001b[0;36m10\u001b[0m\u001b[0;34m)\u001b[0m\u001b[0;34m)\u001b[0m\u001b[0;34m)\u001b[0m\u001b[0;34m.\u001b[0m\u001b[0mrepeat\u001b[0m\u001b[0;34m(\u001b[0m\u001b[0;36m8\u001b[0m\u001b[0;34m)\u001b[0m\u001b[0;34m\u001b[0m\u001b[0;34m\u001b[0m\u001b[0m\n\u001b[0m\u001b[1;32m      3\u001b[0m \u001b[0mcol2\u001b[0m \u001b[0;34m=\u001b[0m \u001b[0;34m[\u001b[0m\u001b[0;34m\"Permanent crops\"\u001b[0m\u001b[0;34m,\u001b[0m \u001b[0;34m\"Irrigated crops\"\u001b[0m\u001b[0;34m,\u001b[0m \u001b[0;34m\"Managed Forest\"\u001b[0m\u001b[0;34m,\u001b[0m \u001b[0;34m\"Natural Forest\"\u001b[0m\u001b[0;34m,\u001b[0m \u001b[0;34m\"Agro-Forestry system\"\u001b[0m\u001b[0;34m,\u001b[0m \u001b[0;34m\"Urban\"\u001b[0m\u001b[0;34m,\u001b[0m \u001b[0;34m\"Pasture\"\u001b[0m\u001b[0;34m,\u001b[0m \u001b[0;34m\"Shrubland\"\u001b[0m \u001b[0;34m]\u001b[0m\u001b[0;34m*\u001b[0m\u001b[0;36m11\u001b[0m\u001b[0;34m\u001b[0m\u001b[0;34m\u001b[0m\u001b[0m\n\u001b[1;32m      4\u001b[0m \u001b[0mcol3\u001b[0m \u001b[0;34m=\u001b[0m \u001b[0mnp\u001b[0m\u001b[0;34m.\u001b[0m\u001b[0mrandom\u001b[0m\u001b[0;34m.\u001b[0m\u001b[0muniform\u001b[0m\u001b[0;34m(\u001b[0m\u001b[0;36m0\u001b[0m\u001b[0;34m,\u001b[0m \u001b[0;36m100\u001b[0m\u001b[0;34m,\u001b[0m \u001b[0;36m90\u001b[0m\u001b[0;34m)\u001b[0m\u001b[0;34m\u001b[0m\u001b[0;34m\u001b[0m\u001b[0m\n\u001b[1;32m      5\u001b[0m \u001b[0mtable5\u001b[0m \u001b[0;34m=\u001b[0m \u001b[0mpd\u001b[0m\u001b[0;34m.\u001b[0m\u001b[0mDataFrame\u001b[0m\u001b[0;34m(\u001b[0m\u001b[0mlist\u001b[0m\u001b[0;34m(\u001b[0m\u001b[0mzip\u001b[0m\u001b[0;34m(\u001b[0m\u001b[0mcol1\u001b[0m\u001b[0;34m,\u001b[0m \u001b[0mcol2\u001b[0m\u001b[0;34m,\u001b[0m \u001b[0mcol3\u001b[0m\u001b[0;34m)\u001b[0m\u001b[0;34m)\u001b[0m\u001b[0;34m,\u001b[0m \u001b[0mcolumns\u001b[0m \u001b[0;34m=\u001b[0m \u001b[0;34m[\u001b[0m\u001b[0;34m\"Year\"\u001b[0m\u001b[0;34m,\u001b[0m \u001b[0;34m\"Landuse\"\u001b[0m\u001b[0;34m,\u001b[0m \u001b[0;34m\"Cover\"\u001b[0m\u001b[0;34m]\u001b[0m\u001b[0;34m)\u001b[0m\u001b[0;34m\u001b[0m\u001b[0;34m\u001b[0m\u001b[0m\n",
      "\u001b[0;31mNameError\u001b[0m: name 'pd' is not defined"
     ]
    }
   ],
   "source": [
    "# Simulate table5\n",
    "col1 = pd.Series(list(range(1900,2010,10))).repeat(8)\n",
    "col2 = [\"Permanent crops\", \"Irrigated crops\", \"Managed Forest\", \"Natural Forest\", \"Agro-Forestry system\", \"Urban\", \"Pasture\", \"Shrubland\" ]*11\n",
    "col3 = np.random.uniform(0, 100, 90)\n",
    "table5 = pd.DataFrame(list(zip(col1, col2, col3)), columns = [\"Year\", \"Landuse\", \"Cover\"])\n",
    "\n",
    "print(table5)"
   ]
  }
 ],
 "metadata": {
  "kernelspec": {
   "display_name": "base",
   "language": "python",
   "name": "python3"
  },
  "language_info": {
   "codemirror_mode": {
    "name": "ipython",
    "version": 3
   },
   "file_extension": ".py",
   "mimetype": "text/x-python",
   "name": "python",
   "nbconvert_exporter": "python",
   "pygments_lexer": "ipython3",
   "version": "3.8.5"
  }
 },
 "nbformat": 4,
 "nbformat_minor": 2
}
