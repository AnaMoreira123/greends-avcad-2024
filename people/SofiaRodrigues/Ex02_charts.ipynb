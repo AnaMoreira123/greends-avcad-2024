{
 "cells": [
  {
   "cell_type": "markdown",
   "id": "90f7b12b",
   "metadata": {},
   "source": [
    "Ex02\n",
    "The objectives of this exercise are to:\n",
    "\n",
    "- identify each type of variables and tables that were created.\n",
    "\n",
    "- try your best to interpret each line of the code provided by inserting a note in front of each line (it might be usefull to create a jupiter notebook from the markdown file)\n",
    "\n",
    "- based on these simulated data, draw sketches of the charts that you find more adequate to represent the different types of data and datasets. You should identify the different axis of the plot, if applicable."
   ]
  },
  {
   "cell_type": "code",
   "execution_count": 1,
   "id": "79b003b3",
   "metadata": {},
   "outputs": [],
   "source": [
    "import pandas as pd #import pandas library\n",
    "import numpy as np #import numpy library\n",
    "import random #import random module"
   ]
  },
  {
   "cell_type": "code",
   "execution_count": 10,
   "id": "eed90e33",
   "metadata": {},
   "outputs": [
    {
     "name": "stdout",
     "output_type": "stream",
     "text": [
      "['Pasture', 'Managed Forest', 'Natural Forest', 'Managed Forest', 'Natural Forest', 'Managed Forest', 'Irrigated crops', 'Managed Forest', 'Agro-Forestry system', 'Permanent crops', 'Shrubland', 'Shrubland', 'Irrigated crops', 'Permanent crops', 'Managed Forest', 'Shrubland', 'Shrubland', 'Agro-Forestry system', 'Shrubland', 'Irrigated crops', 'Agro-Forestry system', 'Managed Forest', 'Urban', 'Agro-Forestry system', 'Irrigated crops', 'Urban', 'Permanent crops', 'Natural Forest', 'Urban', 'Urban', 'Irrigated crops', 'Agro-Forestry system', 'Irrigated crops', 'Natural Forest', 'Managed Forest', 'Shrubland', 'Agro-Forestry system', 'Agro-Forestry system', 'Agro-Forestry system', 'Natural Forest', 'Irrigated crops', 'Shrubland', 'Managed Forest', 'Managed Forest', 'Urban', 'Shrubland', 'Natural Forest', 'Managed Forest', 'Shrubland', 'Agro-Forestry system', 'Natural Forest', 'Natural Forest', 'Irrigated crops', 'Managed Forest', 'Agro-Forestry system', 'Urban', 'Natural Forest', 'Pasture', 'Natural Forest', 'Agro-Forestry system', 'Pasture', 'Irrigated crops', 'Shrubland', 'Urban', 'Urban', 'Agro-Forestry system', 'Managed Forest', 'Pasture', 'Urban', 'Natural Forest', 'Urban', 'Permanent crops', 'Permanent crops', 'Shrubland', 'Urban', 'Shrubland', 'Shrubland', 'Irrigated crops', 'Permanent crops', 'Irrigated crops', 'Urban', 'Pasture', 'Pasture', 'Shrubland', 'Pasture', 'Pasture', 'Natural Forest', 'Agro-Forestry system', 'Agro-Forestry system', 'Urban', 'Agro-Forestry system', 'Managed Forest', 'Urban', 'Irrigated crops', 'Permanent crops', 'Agro-Forestry system', 'Permanent crops', 'Pasture', 'Pasture', 'Pasture']\n"
     ]
    }
   ],
   "source": [
    "#Simulate var1\n",
    "var1 = [] #empty list\n",
    "random.seed(24) # optional: used to fix the seed of the pseudo-random number generator (use any number of your choice) | ensure reproducibility\n",
    "levels = [\"Permanent crops\", \"Irrigated crops\", \"Managed Forest\", \"Natural Forest\", \"Agro-Forestry system\", \"Urban\", \"Pasture\", \"Shrubland\" ]\n",
    "for _ in range(100): # why is a loop needed? if not used it would only generate a single random land use, this way allows to simulate the presence of different land use categories in a dataset by repeating the random sampling process multiple times\n",
    "    var1 += random.sample(levels, 1) # var1.append(random.sample(levels, 1)) would also work\n",
    "print(var1)\n",
    "\n",
    "### variable represents land use types\n",
    "## x - land use categories & y - frequency (categorical data)\n",
    "## bar chart (display the frequency of each land use category in var1)"
   ]
  },
  {
   "cell_type": "code",
   "execution_count": 3,
   "id": "ac9e0663",
   "metadata": {},
   "outputs": [
    {
     "name": "stdout",
     "output_type": "stream",
     "text": [
      "[96.00173033 69.95120499 99.98672926 22.00672998 36.1056354  73.98409902\n",
      " 99.64557251 31.63469778 13.65445798 38.39800102 32.05192836 36.64147531\n",
      " 70.96515626 90.01424305 53.41154392 24.72937649 67.18065626 56.17291073\n",
      " 54.25598767 89.34476037 84.27795496 30.60125899 63.11697775 68.02388604\n",
      " 97.04275604 89.35671519 94.24258614 64.22254812 61.46476338 22.76832544\n",
      " 48.6031869  80.72192994 84.42201535 53.46808662 75.77980499 49.96768861\n",
      " 85.03278966 61.96967754 86.16141791 23.16971966 40.22184146 62.43750622\n",
      " 14.30367059 12.27984836 41.68299108 55.68829821 94.14191754 40.92590225\n",
      " 73.67514494 99.54506744 91.66643492  0.20232726 97.13316932 88.90481767\n",
      " 69.94886062  9.75246685 57.34290389 82.00371163 56.08910506 35.07624607\n",
      " 54.34997561 87.95890917 11.40965649  3.14388054 95.28100604 28.87434744\n",
      " 44.19491709 25.90215323 59.68914437 65.5286046  27.56954606 85.79724579\n",
      " 88.87241464 28.50605911 65.95604191 97.21202594 79.68741126 17.94644012\n",
      " 78.46729779 97.01278886 36.2811769   8.78860648 34.38334237 57.11096457\n",
      " 16.55126825 63.16159389  6.55655353 91.28741912  8.86539792 19.93876783\n",
      " 47.1952698  44.09971802 76.55514267  1.27435337 68.06629642 27.56026399\n",
      " 60.39798213 54.59728462 20.97898106 13.61227537]\n"
     ]
    }
   ],
   "source": [
    "# Simulate var2\n",
    "np.random.seed(24) # optional: used to fix the seed of the pseudo-random number generator (use any number of your choice)\n",
    "var2 = np.random.uniform(0, 100, 100) #generates an array of 100 random values between 0 and 100\n",
    "print(var2)\n",
    "\n",
    "### variable represents cover values\n",
    "## x - range of values in var2 & y - frequency of values (continuous data)\n",
    "## histogram (visualize the distribution of values in var2)"
   ]
  },
  {
   "cell_type": "code",
   "execution_count": 4,
   "id": "7f5c95e4",
   "metadata": {},
   "outputs": [
    {
     "name": "stdout",
     "output_type": "stream",
     "text": [
      "                landuse  Frequency\n",
      "0  Agro-Forestry system         16\n",
      "1             Shrubland         14\n",
      "2                 Urban         14\n",
      "3        Managed Forest         13\n",
      "4       Irrigated crops         12\n",
      "5        Natural Forest         12\n",
      "6               Pasture         11\n",
      "7       Permanent crops          8\n"
     ]
    }
   ],
   "source": [
    "# Simulate table1\n",
    "table1 = pd.DataFrame(var1).value_counts(sort=True) #creates a dataframe from var1 and count the occurrences of each value\n",
    "table1 = table1.rename_axis(\"landuse\") #renames the index to \"landuse\"\n",
    "table1 = table1.reset_index(name=\"Frequency\") #reset the index and rename the column to \"frequency\"\n",
    "print (table1)\n",
    "\n",
    "### table represents the frequency of the counts of each land use type\n",
    "## x - land use categories & y - frequency (categorical data - frequency)\n",
    "## bar chart (show the frequency of each land use category in table1)"
   ]
  },
  {
   "cell_type": "code",
   "execution_count": 5,
   "id": "f3756e8d",
   "metadata": {},
   "outputs": [
    {
     "name": "stdout",
     "output_type": "stream",
     "text": [
      "                 landuse      cover\n",
      "0                Pasture  96.001730\n",
      "1         Managed Forest  69.951205\n",
      "2         Natural Forest  99.986729\n",
      "3         Managed Forest  22.006730\n",
      "4         Natural Forest  36.105635\n",
      "..                   ...        ...\n",
      "95  Agro-Forestry system  27.560264\n",
      "96       Permanent crops  60.397982\n",
      "97               Pasture  54.597285\n",
      "98               Pasture  20.978981\n",
      "99               Pasture  13.612275\n",
      "\n",
      "[100 rows x 2 columns]\n"
     ]
    }
   ],
   "source": [
    "# Simulate table2\n",
    "table2 = pd.DataFrame(list(zip(var1, var2)), columns = [\"landuse\", \"cover\"]) #create a dataframe from the zipped var1 and var2\n",
    "print(table2)\n",
    "\n",
    "# Note: The zip() function returns a zip object, which is an iterator of tuples where the first item in each passed iterator is paired together, and then the second item in each passed iterator are paired together, etc. The tuple() function displays a readable version of the result - try running: print(tuple(zip(var1,var2)))\n",
    "\n",
    "### table is a data frame that combines land use types (var1) and cover values (var2)\n",
    "## x - land use categories & y - cover values (relationship between categorical and continuous data)\n",
    "## grouped bar chart or boxplot (compare the distribution of cover for each land use category in table2)"
   ]
  },
  {
   "cell_type": "code",
   "execution_count": 6,
   "id": "7a53c91f",
   "metadata": {},
   "outputs": [
    {
     "name": "stdout",
     "output_type": "stream",
     "text": [
      "    Year  Temperature\n",
      "0   1970    19.658424\n",
      "1   1971    15.459933\n",
      "2   1972    16.367439\n",
      "3   1973    15.018379\n",
      "4   1974    14.858367\n",
      "5   1975    14.122573\n",
      "6   1976    18.128834\n",
      "7   1977    17.591444\n",
      "8   1978    13.747192\n",
      "9   1979    17.439130\n",
      "10  1980    18.357610\n",
      "11  1981    20.778545\n",
      "12  1982    18.923077\n",
      "13  1983    17.208022\n",
      "14  1984    16.037669\n",
      "15  1985    18.700457\n",
      "16  1986    19.906849\n",
      "17  1987    19.115475\n",
      "18  1988    17.331123\n",
      "19  1989    18.030037\n",
      "20  1990    14.326129\n",
      "21  1991    18.125722\n",
      "22  1992    19.785710\n",
      "23  1993    16.873344\n",
      "24  1994    17.243337\n",
      "25  1995    19.415205\n",
      "26  1996    16.995920\n",
      "27  1997    20.255591\n",
      "28  1998    17.708986\n",
      "29  1999    19.075055\n",
      "30  2000    16.228633\n",
      "31  2001    18.039636\n",
      "32  2002    20.373166\n",
      "33  2003    14.348074\n",
      "34  2004    19.857967\n",
      "35  2005    12.821291\n",
      "36  2006    16.740360\n",
      "37  2007    18.263046\n",
      "38  2008    15.826924\n",
      "39  2009    17.581440\n",
      "40  2010    19.528207\n",
      "41  2011    17.580070\n",
      "42  2012    13.059423\n",
      "43  2013    18.607812\n",
      "44  2014    19.061101\n",
      "45  2015    17.236196\n",
      "46  2016    16.956293\n",
      "47  2017    17.093681\n",
      "48  2018    13.742494\n",
      "49  2019    16.215279\n",
      "50  2020    20.401945\n"
     ]
    }
   ],
   "source": [
    "# Simulate table3\n",
    "np.random.seed(24) # optional: used to fix the seed of the pseudo-random number generator (use any number of your choice)\n",
    "year = list(range(1970,2021)) #create a list of years from 1970 to 2020\n",
    "temp = np.random.normal(17,2,51) #generate an array of 51 random values with a normal distribution\n",
    "table3 = pd.DataFrame(list(zip(year, temp)), columns = [\"Year\", \"Temperature\"]) #create a dataframe from the zipped year and temperature\n",
    "print(table3)\n",
    "\n",
    "### table is a data frame that represents years and respective simulated temperature\n",
    "## x - years & y - temperature (time series data)\n",
    "## line chart (plot the temperature variation over the years in table3)"
   ]
  },
  {
   "cell_type": "code",
   "execution_count": 7,
   "id": "745f0d16",
   "metadata": {},
   "outputs": [
    {
     "name": "stdout",
     "output_type": "stream",
     "text": [
      "    Mean Anual Temperature  Total Precipitation\n",
      "0                18.294961           909.201074\n",
      "1                18.556194           684.600944\n",
      "2                18.213491           840.320436\n",
      "3                18.157810           755.513792\n",
      "4                17.785119           824.875035\n",
      "..                     ...                  ...\n",
      "95               18.941036           608.551015\n",
      "96               18.339957           645.584342\n",
      "97               18.835738           610.889186\n",
      "98               18.311114           787.298732\n",
      "99               18.915846           691.382160\n",
      "\n",
      "[100 rows x 2 columns]\n"
     ]
    }
   ],
   "source": [
    "# Simulate table4\n",
    "xx = np.array([16,21]) #create a numpy array with values 16 and 21\n",
    "yy = np.array([300, 1200]) #create a numpy array with values 300 and 1200\n",
    "means = [xx.mean(), yy.mean()]  \n",
    "stds = [xx.std() / 3, yy.std() / 3]\n",
    "corr = -0.7 # correlation\n",
    "covs = [[stds[0]**2          , stds[0]*stds[1]*corr], \n",
    "        [stds[0]*stds[1]*corr,           stds[1]**2]] # covariance matrix\n",
    "table4 = pd.DataFrame(np.random.multivariate_normal(means, covs, 100), columns = [\"Mean Anual Temperature\", \"Total Precipitation\"])\n",
    "print(table4)\n",
    "\n",
    "### table is a data frame with two columns (Mean Annual Temperature and Total Percipitation), representing a multivariate normal distribution data\n",
    "## x - mean annual temperature & y - total precipitation (scatter plot for bivariate data)\n",
    "## scatter plot (show the relationship between \"Mean Annual Temperature\" and \"Total Precipitation\" in table4)"
   ]
  },
  {
   "cell_type": "code",
   "execution_count": 11,
   "id": "a76fb7e9",
   "metadata": {},
   "outputs": [
    {
     "name": "stdout",
     "output_type": "stream",
     "text": [
      "    Year               Landuse      Cover\n",
      "0   1900       Permanent crops  15.901162\n",
      "1   1900       Irrigated crops  46.617287\n",
      "2   1900        Managed Forest  61.941935\n",
      "3   1900        Natural Forest  29.189952\n",
      "4   1900  Agro-Forestry system  10.718345\n",
      "..   ...                   ...        ...\n",
      "83  2000        Natural Forest  36.180310\n",
      "84  2000  Agro-Forestry system  87.194419\n",
      "85  2000                 Urban  21.059268\n",
      "86  2000               Pasture  60.523085\n",
      "87  2000             Shrubland  63.547643\n",
      "\n",
      "[88 rows x 3 columns]\n"
     ]
    }
   ],
   "source": [
    "# Simulate table5\n",
    "col1 = pd.Series(list(range(1900,2010,10))).repeat(8)\n",
    "col2 = [\"Permanent crops\", \"Irrigated crops\", \"Managed Forest\", \"Natural Forest\", \"Agro-Forestry system\", \"Urban\", \"Pasture\", \"Shrubland\" ]*11\n",
    "col3 = np.random.uniform(0, 100, 90)\n",
    "table5 = pd.DataFrame(list(zip(col1, col2, col3)), columns = [\"Year\", \"Landuse\", \"Cover\"])\n",
    "print(table5)\n",
    "\n",
    "### table is a data frame with three columns (Year, Landuse and Cover), representing simulated data for different land use types and covers over the years\n",
    "## x - years & y - cover values (time series data with multiple categories)\n",
    "## line chart with multiple lines (plot the cover values over time for each land use category in table5)"
   ]
  }
 ],
 "metadata": {
  "kernelspec": {
   "display_name": "Python 3 (ipykernel)",
   "language": "python",
   "name": "python3"
  },
  "language_info": {
   "codemirror_mode": {
    "name": "ipython",
    "version": 3
   },
   "file_extension": ".py",
   "mimetype": "text/x-python",
   "name": "python",
   "nbconvert_exporter": "python",
   "pygments_lexer": "ipython3",
   "version": "3.12.2"
  }
 },
 "nbformat": 4,
 "nbformat_minor": 5
}
